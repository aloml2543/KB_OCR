{
  "nbformat": 4,
  "nbformat_minor": 0,
  "metadata": {
    "colab": {
      "name": "model3_2.ipynb",
      "provenance": [],
      "machine_shape": "hm",
      "mount_file_id": "1QX1KTklqIMsOWbmlG14Ww6UMS-c1otDa",
      "authorship_tag": "ABX9TyPK7BhIlka7rAPi18G1RaRV",
      "include_colab_link": true
    },
    "kernelspec": {
      "name": "python3",
      "display_name": "Python 3"
    },
    "language_info": {
      "name": "python"
    },
    "accelerator": "GPU"
  },
  "cells": [
    {
      "cell_type": "markdown",
      "metadata": {
        "id": "view-in-github",
        "colab_type": "text"
      },
      "source": [
        "<a href=\"https://colab.research.google.com/github/aloml2543/KB_OCR/blob/main/src/model3_2.ipynb\" target=\"_parent\"><img src=\"https://colab.research.google.com/assets/colab-badge.svg\" alt=\"Open In Colab\"/></a>"
      ]
    },
    {
      "cell_type": "code",
      "metadata": {
        "id": "tw43_NGX1fOU"
      },
      "source": [
        "from google.colab import drive\n",
        "drive.mount('/content/drive')"
      ],
      "execution_count": null,
      "outputs": []
    },
    {
      "cell_type": "code",
      "metadata": {
        "id": "I4t6f9t903bD"
      },
      "source": [
        "import cv2\n",
        "import numpy as np\n",
        "import matplotlib.pyplot as plt\n",
        "import pandas as pd\n",
        "from tqdm import tqdm\n",
        "import datetime\n",
        "import random\n",
        "plt.style.use('dark_background')\n",
        "\n",
        "from tensorflow.keras import backend as K\n",
        " \n",
        "from tensorflow.keras.applications.mobilenet_v2 import MobileNetV2,preprocess_input\n",
        "from tensorflow.keras import layers\n",
        "from tensorflow import keras\n",
        "from tensorflow.keras.optimizers import SGD, Adam\n",
        "from tensorflow.keras.layers import Input,GlobalMaxPooling2D,Dense, Conv2D, BatchNormalization, Activation, MaxPooling2D, Reshape, LSTM, Lambda, add, concatenate, Bidirectional\n",
        "from tensorflow.keras.models import Model, save_model, load_model\n",
        "from tensorflow.keras.preprocessing.image import img_to_array,load_img\n",
        "from tensorflow.keras.optimizers import Adam\n",
        "from tensorflow.keras.callbacks import EarlyStopping, ModelCheckpoint, TensorBoard"
      ],
      "execution_count": null,
      "outputs": []
    },
    {
      "cell_type": "code",
      "metadata": {
        "colab": {
          "base_uri": "https://localhost:8080/"
        },
        "id": "hXchTvRl0_ZA",
        "outputId": "468cecd0-ab92-4b81-d1a2-4c62b754e798"
      },
      "source": [
        "def split_data(imgs, labels, split = 0.9, get = 1):\n",
        "  get_point = int(len(imgs) * get)\n",
        "  img_get = imgs[:get_point]\n",
        "  lable_get = labels[:get_point]\n",
        "  split_point = int(len(img_get) * split)\n",
        "\n",
        "  return img_get[:split_point], lable_get[:split_point], img_get[split_point:], lable_get[split_point:]\n",
        "#데이터셋 압축 해제\n",
        "!unzip -n \"/content/drive/MyDrive/KB_OCR/DATA/snukb_dataset.zip\"  -d \"/content/\"\n",
        "\n",
        "#dataset 가져오기\n",
        "labels = pd.read_csv('/content/train/train.csv')\n",
        "image_dir = [str(index) + '.jpg' for index in list(labels.index.to_numpy())]\n",
        "labels = list(labels.label.to_numpy())\n",
        "\n",
        "train_img, train_label, val_img, val_label = split_data(image_dir, labels)\n",
        "\n",
        "\n",
        "#파라미터들\n",
        "model_path = '/content/drive/MyDrive/KB_OCR/model1-1/'\n",
        "img_width = 128\n",
        "img_height = 64\n",
        " \n",
        "max_length = max([len(label) for label in labels])\n",
        "characters = sorted(list(set(char for label in labels for char in label)))\n",
        "num_classes = len(characters) + 1\n",
        "\n",
        "print(\"최대 길이\", max_length)\n",
        "print(\"문자수\", len(characters))\n",
        "print(\"앞 20글자\", characters[0:20])\n",
        "print(\"뒤 20글자\", characters[-20:])\n",
        "\n",
        "print(\"\\ntrain_img 수:\", len(train_img))\n",
        "print(\"train_label 수:\", len(train_label))\n",
        "print(\"val_img 수:\", len(val_img))\n",
        "print(\"val_label 수:\", len(val_label))"
      ],
      "execution_count": null,
      "outputs": [
        {
          "output_type": "stream",
          "name": "stdout",
          "text": [
            "Archive:  /content/drive/MyDrive/KB_OCR/DATA/snukb_dataset.zip\n",
            "최대 길이 38\n",
            "문자수 1211\n",
            "앞 20글자 [' ', '!', '\"', '#', '$', '%', '&', \"'\", '(', ')', '*', '+', ',', '-', '.', '/', '0', '1', '2', '3']\n",
            "뒤 20글자 ['훈', '훔', '훨', '훼', '휴', '흉', '흐', '흑', '흔', '흘', '흙', '흡', '흥', '흩', '희', '흰', '히', '힌', '힐', '힘']\n",
            "\n",
            "train_img 수: 27054\n",
            "train_label 수: 27054\n",
            "val_img 수: 3006\n",
            "val_label 수: 3006\n"
          ]
        }
      ]
    },
    {
      "cell_type": "code",
      "metadata": {
        "colab": {
          "base_uri": "https://localhost:8080/"
        },
        "id": "IlfS8Oda12eT",
        "outputId": "8719967e-a328-47f3-8a3c-b2e6517c0ebc"
      },
      "source": [
        "def labels_to_text(labels):     # index형 데이터 -> 글자 변환\n",
        "    return ''.join(list(map(lambda x: characters[int(x)], labels)))\n",
        " \n",
        "def text_to_labels(text):      # 글자 -> index형 데이터 변환\n",
        "    return list(map(lambda x: characters.index(x), text))\n",
        "\n",
        "#입력값 제너레이터\n",
        "class TextImageGenerator:\n",
        "    def __init__(self, img_dirpath,img_dir,labels, img_w, img_h,\n",
        "                 batch_size, downsample_factor, max_text_len=100):\n",
        "        self.img_h = img_h\n",
        "        self.img_w = img_w\n",
        "        self.labels = labels\n",
        "        self.batch_size = batch_size\n",
        "        self.max_text_len = max_text_len\n",
        "        self.downsample_factor = downsample_factor\n",
        "        self.img_dirpath = img_dirpath                  # image dir path\n",
        "        self.img_dir = img_dir     # images list\n",
        "        self.n = len(self.img_dir)                      # number of images\n",
        "        self.indexes = list(range(self.n))\n",
        "        self.cur_index = 0\n",
        "        self.imgs = np.zeros((self.n, self.img_h, self.img_w))\n",
        "        self.texts = []\n",
        " \n",
        "    ## samples의 이미지 목록들을 opencv로 읽어 저장하기, texts에는 label 저장\n",
        "    def build_data(self):\n",
        "        for i, img_file in enumerate(self.img_dir):\n",
        "            img = cv2.imread(self.img_dirpath + img_file, cv2.COLOR_BGR2GRAY)\n",
        "            img = cv2.cvtColor(img, cv2.COLOR_BGR2GRAY)\n",
        "            img = cv2.GaussianBlur(img, ksize=(5,5), sigmaX=10) #노이즈 삭제\n",
        "            img = cv2.adaptiveThreshold(\n",
        "                img,\n",
        "                maxValue=255.0,\n",
        "                adaptiveMethod=cv2.ADAPTIVE_THRESH_GAUSSIAN_C,\n",
        "                thresholdType=cv2.THRESH_BINARY_INV,\n",
        "                blockSize=19,\n",
        "                C=2\n",
        "            )\n",
        "            img = cv2.resize(img, (self.img_w, self.img_h))\n",
        "            img = img.astype(np.float32)\n",
        "            img = (img / 255.0)\n",
        " \n",
        "            self.imgs[i, :, :] = img\n",
        "            self.texts.append(labels[i])\n",
        " \n",
        "    def next_sample(self):      ## index max -> 0 으로 만들기\n",
        "        self.cur_index += 1\n",
        "        if self.cur_index >= self.n:\n",
        "            self.cur_index = 0\n",
        "            random.shuffle(self.indexes)\n",
        "        return self.imgs[self.indexes[self.cur_index]], self.texts[self.indexes[self.cur_index]]\n",
        " \n",
        "    def next_batch(self):       ## batch size만큼 가져오기\n",
        "        while True:\n",
        "            X_data = np.ones([self.batch_size, self.img_w, self.img_h, 1])     # (bs, 128, 64, 1)\n",
        "            Y_data = np.zeros([self.batch_size, self.max_text_len])   # (bs, 9)\n",
        "            input_length = np.ones((self.batch_size, 1)) * (self.img_w // self.downsample_factor - 2)  # (bs, 1)\n",
        "            label_length = np.zeros((self.batch_size, 1))           # (bs, 1)\n",
        " \n",
        "            for i in range(self.batch_size):\n",
        "                img, text = self.next_sample()\n",
        "                img = img.T\n",
        "                img = np.expand_dims(img, -1)\n",
        "                X_data[i] = img\n",
        "                word = text_to_labels(text)\n",
        "                for point in range(len(word)):\n",
        "                    Y_data[i][point] = word[point]\n",
        "                label_length[i] = len(text)\n",
        " \n",
        "            # dict 형태로 복사\n",
        "            inputs = {\n",
        "                'the_input': X_data,  # (bs, 128, 64, 1)\n",
        "                'the_labels': Y_data,  # (bs, 8)\n",
        "                'input_length': input_length,  # (bs, 1) -> 모든 원소 value = 30\n",
        "                'label_length': label_length  # (bs, 1) -> 모든 원소 value = 8\n",
        "            }\n",
        "            outputs = {'ctc': np.zeros([self.batch_size])}   # (bs, 1) -> 모든 원소 0\n",
        "            yield (inputs, outputs)\n",
        "\n",
        "train_file_path = '/content/train/images/'\n",
        "train_dataset_generator = TextImageGenerator(train_file_path,tqdm(train_img), train_label, img_width, img_height, 1, 4, max_text_len=max_length)\n",
        "train_dataset_generator.build_data()\n",
        "val_dataset_generator = TextImageGenerator(train_file_path,tqdm(val_img), val_label, img_width, img_height, 1, 4, max_text_len=max_length)\n",
        "val_dataset_generator.build_data()"
      ],
      "execution_count": null,
      "outputs": [
        {
          "output_type": "stream",
          "name": "stderr",
          "text": [
            "100%|██████████| 27054/27054 [00:34<00:00, 783.52it/s]\n",
            "100%|██████████| 3006/3006 [00:03<00:00, 761.34it/s]\n"
          ]
        }
      ]
    },
    {
      "cell_type": "code",
      "metadata": {
        "colab": {
          "base_uri": "https://localhost:8080/"
        },
        "id": "7UJnzv2s5hIe",
        "outputId": "0b533957-32b6-41aa-be82-d00db1f4edff"
      },
      "source": [
        "def ctc_lambda_func(args):\n",
        "    y_pred, labels, input_length, label_length = args\n",
        "    y_pred = y_pred[:,2:, :]\n",
        "    return K.ctc_batch_cost(labels, y_pred, input_length, label_length)\n",
        " \n",
        "def get_Model(training=True):\n",
        "    inputs = Input(name='the_input', shape=(img_width, img_height, 1), dtype='float32')\n",
        " \n",
        " \n",
        "    inner = Conv2D(8, (64, 64), padding='same', kernel_initializer='he_normal', name='con7')(inputs)\n",
        "    inner = BatchNormalization()(inner)\n",
        "    inner = Activation('relu')(inner)\n",
        " \n",
        "    # CNN to RNN\n",
        "    inner = Reshape(target_shape=((128, 512)), name='reshape')(inner)\n",
        "    inner = Dense(64, activation='relu', kernel_initializer='he_normal', name='dense1')(inner)\n",
        " \n",
        "    # RNN layer\n",
        "    lstm_1 = Bidirectional(LSTM(64, return_sequences=True, kernel_initializer='he_normal', name='lstm1'))(inner)\n",
        "    lstm_1b = Bidirectional(LSTM(64, return_sequences=True, go_backwards=True, kernel_initializer='he_normal', name='lstm1_b'))(inner)\n",
        "    reversed_lstm_1b = Lambda(lambda inputTensor: K.reverse(inputTensor, axes=1)) (lstm_1b)\n",
        " \n",
        "    lstm1_merged = add([lstm_1, reversed_lstm_1b])\n",
        "    lstm1_merged = BatchNormalization()(lstm1_merged)\n",
        " \n",
        "\n",
        "    inner = Dense(num_classes, kernel_initializer='he_normal',name='dense2')(lstm1_merged)\n",
        "    y_pred = Activation('softmax', name='softmax')(inner)\n",
        " \n",
        "    labels = Input(name='the_labels', shape=[max_length], dtype='float32') \n",
        "    input_length = Input(name='input_length', shape=[1], dtype='int64')\n",
        "    label_length = Input(name='label_length', shape=[1], dtype='int64')\n",
        " \n",
        "    loss_out = Lambda(ctc_lambda_func, output_shape=(1,), name='ctc')([y_pred, labels, input_length, label_length])\n",
        " \n",
        "    if training:\n",
        "        return Model(inputs=[inputs, labels, input_length, label_length], outputs=loss_out)\n",
        "    else:\n",
        "        return Model(inputs=[inputs], outputs=y_pred)\n",
        " \n",
        "# Get the model\n",
        " \n",
        "model = get_Model()\n",
        "model.summary()\n",
        "model.compile(loss={'ctc': lambda y_true, y_pred: y_pred}, optimizer=Adam(learning_rate=0.0005))"
      ],
      "execution_count": null,
      "outputs": [
        {
          "output_type": "stream",
          "name": "stdout",
          "text": [
            "Model: \"model_15\"\n",
            "__________________________________________________________________________________________________\n",
            "Layer (type)                    Output Shape         Param #     Connected to                     \n",
            "==================================================================================================\n",
            "the_input (InputLayer)          [(None, 128, 64, 1)] 0                                            \n",
            "__________________________________________________________________________________________________\n",
            "con7 (Conv2D)                   (None, 128, 64, 8)   32776       the_input[0][0]                  \n",
            "__________________________________________________________________________________________________\n",
            "batch_normalization_364 (BatchN (None, 128, 64, 8)   32          con7[0][0]                       \n",
            "__________________________________________________________________________________________________\n",
            "activation_338 (Activation)     (None, 128, 64, 8)   0           batch_normalization_364[0][0]    \n",
            "__________________________________________________________________________________________________\n",
            "reshape (Reshape)               (None, 128, 512)     0           activation_338[0][0]             \n",
            "__________________________________________________________________________________________________\n",
            "dense1 (Dense)                  (None, 128, 64)      32832       reshape[0][0]                    \n",
            "__________________________________________________________________________________________________\n",
            "bidirectional_1 (Bidirectional) (None, 128, 128)     66048       dense1[0][0]                     \n",
            "__________________________________________________________________________________________________\n",
            "bidirectional (Bidirectional)   (None, 128, 128)     66048       dense1[0][0]                     \n",
            "__________________________________________________________________________________________________\n",
            "lambda_26 (Lambda)              (None, 128, 128)     0           bidirectional_1[0][0]            \n",
            "__________________________________________________________________________________________________\n",
            "add_15 (Add)                    (None, 128, 128)     0           bidirectional[0][0]              \n",
            "                                                                 lambda_26[0][0]                  \n",
            "__________________________________________________________________________________________________\n",
            "batch_normalization_365 (BatchN (None, 128, 128)     512         add_15[0][0]                     \n",
            "__________________________________________________________________________________________________\n",
            "dense2 (Dense)                  (None, 128, 1212)    156348      batch_normalization_365[0][0]    \n",
            "__________________________________________________________________________________________________\n",
            "softmax (Activation)            (None, 128, 1212)    0           dense2[0][0]                     \n",
            "__________________________________________________________________________________________________\n",
            "the_labels (InputLayer)         [(None, 38)]         0                                            \n",
            "__________________________________________________________________________________________________\n",
            "input_length (InputLayer)       [(None, 1)]          0                                            \n",
            "__________________________________________________________________________________________________\n",
            "label_length (InputLayer)       [(None, 1)]          0                                            \n",
            "__________________________________________________________________________________________________\n",
            "ctc (Lambda)                    (None, 1)            0           softmax[0][0]                    \n",
            "                                                                 the_labels[0][0]                 \n",
            "                                                                 input_length[0][0]               \n",
            "                                                                 label_length[0][0]               \n",
            "==================================================================================================\n",
            "Total params: 354,596\n",
            "Trainable params: 354,324\n",
            "Non-trainable params: 272\n",
            "__________________________________________________________________________________________________\n"
          ]
        }
      ]
    },
    {
      "cell_type": "code",
      "metadata": {
        "colab": {
          "base_uri": "https://localhost:8080/",
          "height": 684
        },
        "id": "ZzVn2eJU8WQZ",
        "outputId": "027d1903-38b6-4301-e86a-dbdc23026c5e"
      },
      "source": [
        "model_path = '/content/drive/MyDrive/KB_OCR/model3-2/'\n",
        "checkpoint = ModelCheckpoint(filepath=model_path + 'model3_2.hdf5', monitor='val_loss', verbose=1, mode='auto', save_best_only=True)\n",
        "\n",
        "\n",
        "\n",
        "log_dir = model_path + \"tensorbloard/\" + datetime.datetime.now().strftime(\"%Y%m%d-%H%M%S\")\n",
        "tensorboard_callback = TensorBoard(log_dir=log_dir, histogram_freq=1)\n",
        " \n",
        "now = datetime.datetime.now()\n",
        "print(\"시작 시간:\", now)\n",
        "history = model.fit(train_dataset_generator.next_batch(), steps_per_epoch=train_dataset_generator.n\n",
        "                    ,validation_data=val_dataset_generator.next_batch(), validation_steps=val_dataset_generator.n\n",
        "                    ,callbacks=[checkpoint, tensorboard_callback]\n",
        "                    ,epochs=500)\n",
        "now = datetime.datetime.now()\n",
        "print(\"종료 시간:\", now)"
      ],
      "execution_count": null,
      "outputs": [
        {
          "output_type": "stream",
          "name": "stdout",
          "text": [
            "시작 시간: 2021-09-08 15:48:36.071112\n",
            "Epoch 1/500\n",
            "\r    1/27054 [..............................] - ETA: 17:43 - loss: 17.3532"
          ]
        },
        {
          "output_type": "stream",
          "name": "stderr",
          "text": [
            "/usr/local/lib/python3.7/dist-packages/keras/utils/generic_utils.py:497: CustomMaskWarning: Custom mask layers require a config and must override get_config. When loading, the custom mask layer must be passed to the custom_objects argument.\n",
            "  category=CustomMaskWarning)\n"
          ]
        },
        {
          "output_type": "stream",
          "name": "stdout",
          "text": [
            "18285/27054 [===================>..........] - ETA: 4:11 - loss: 20.7002"
          ]
        },
        {
          "output_type": "error",
          "ename": "InvalidArgumentError",
          "evalue": "ignored",
          "traceback": [
            "\u001b[0;31m---------------------------------------------------------------------------\u001b[0m",
            "\u001b[0;31mInvalidArgumentError\u001b[0m                      Traceback (most recent call last)",
            "\u001b[0;32m<ipython-input-96-77d4a199807e>\u001b[0m in \u001b[0;36m<module>\u001b[0;34m()\u001b[0m\n\u001b[1;32m     12\u001b[0m                     \u001b[0;34m,\u001b[0m\u001b[0mvalidation_data\u001b[0m\u001b[0;34m=\u001b[0m\u001b[0mval_dataset_generator\u001b[0m\u001b[0;34m.\u001b[0m\u001b[0mnext_batch\u001b[0m\u001b[0;34m(\u001b[0m\u001b[0;34m)\u001b[0m\u001b[0;34m,\u001b[0m \u001b[0mvalidation_steps\u001b[0m\u001b[0;34m=\u001b[0m\u001b[0mval_dataset_generator\u001b[0m\u001b[0;34m.\u001b[0m\u001b[0mn\u001b[0m\u001b[0;34m\u001b[0m\u001b[0;34m\u001b[0m\u001b[0m\n\u001b[1;32m     13\u001b[0m                     \u001b[0;34m,\u001b[0m\u001b[0mcallbacks\u001b[0m\u001b[0;34m=\u001b[0m\u001b[0;34m[\u001b[0m\u001b[0mcheckpoint\u001b[0m\u001b[0;34m,\u001b[0m \u001b[0mtensorboard_callback\u001b[0m\u001b[0;34m]\u001b[0m\u001b[0;34m\u001b[0m\u001b[0;34m\u001b[0m\u001b[0m\n\u001b[0;32m---> 14\u001b[0;31m                     ,epochs=500)\n\u001b[0m\u001b[1;32m     15\u001b[0m \u001b[0mnow\u001b[0m \u001b[0;34m=\u001b[0m \u001b[0mdatetime\u001b[0m\u001b[0;34m.\u001b[0m\u001b[0mdatetime\u001b[0m\u001b[0;34m.\u001b[0m\u001b[0mnow\u001b[0m\u001b[0;34m(\u001b[0m\u001b[0;34m)\u001b[0m\u001b[0;34m\u001b[0m\u001b[0;34m\u001b[0m\u001b[0m\n\u001b[1;32m     16\u001b[0m \u001b[0mprint\u001b[0m\u001b[0;34m(\u001b[0m\u001b[0;34m\"종료 시간:\"\u001b[0m\u001b[0;34m,\u001b[0m \u001b[0mnow\u001b[0m\u001b[0;34m)\u001b[0m\u001b[0;34m\u001b[0m\u001b[0;34m\u001b[0m\u001b[0m\n",
            "\u001b[0;32m/usr/local/lib/python3.7/dist-packages/keras/engine/training.py\u001b[0m in \u001b[0;36mfit\u001b[0;34m(self, x, y, batch_size, epochs, verbose, callbacks, validation_split, validation_data, shuffle, class_weight, sample_weight, initial_epoch, steps_per_epoch, validation_steps, validation_batch_size, validation_freq, max_queue_size, workers, use_multiprocessing)\u001b[0m\n\u001b[1;32m   1182\u001b[0m                 _r=1):\n\u001b[1;32m   1183\u001b[0m               \u001b[0mcallbacks\u001b[0m\u001b[0;34m.\u001b[0m\u001b[0mon_train_batch_begin\u001b[0m\u001b[0;34m(\u001b[0m\u001b[0mstep\u001b[0m\u001b[0;34m)\u001b[0m\u001b[0;34m\u001b[0m\u001b[0;34m\u001b[0m\u001b[0m\n\u001b[0;32m-> 1184\u001b[0;31m               \u001b[0mtmp_logs\u001b[0m \u001b[0;34m=\u001b[0m \u001b[0mself\u001b[0m\u001b[0;34m.\u001b[0m\u001b[0mtrain_function\u001b[0m\u001b[0;34m(\u001b[0m\u001b[0miterator\u001b[0m\u001b[0;34m)\u001b[0m\u001b[0;34m\u001b[0m\u001b[0;34m\u001b[0m\u001b[0m\n\u001b[0m\u001b[1;32m   1185\u001b[0m               \u001b[0;32mif\u001b[0m \u001b[0mdata_handler\u001b[0m\u001b[0;34m.\u001b[0m\u001b[0mshould_sync\u001b[0m\u001b[0;34m:\u001b[0m\u001b[0;34m\u001b[0m\u001b[0;34m\u001b[0m\u001b[0m\n\u001b[1;32m   1186\u001b[0m                 \u001b[0mcontext\u001b[0m\u001b[0;34m.\u001b[0m\u001b[0masync_wait\u001b[0m\u001b[0;34m(\u001b[0m\u001b[0;34m)\u001b[0m\u001b[0;34m\u001b[0m\u001b[0;34m\u001b[0m\u001b[0m\n",
            "\u001b[0;32m/usr/local/lib/python3.7/dist-packages/tensorflow/python/eager/def_function.py\u001b[0m in \u001b[0;36m__call__\u001b[0;34m(self, *args, **kwds)\u001b[0m\n\u001b[1;32m    883\u001b[0m \u001b[0;34m\u001b[0m\u001b[0m\n\u001b[1;32m    884\u001b[0m       \u001b[0;32mwith\u001b[0m \u001b[0mOptionalXlaContext\u001b[0m\u001b[0;34m(\u001b[0m\u001b[0mself\u001b[0m\u001b[0;34m.\u001b[0m\u001b[0m_jit_compile\u001b[0m\u001b[0;34m)\u001b[0m\u001b[0;34m:\u001b[0m\u001b[0;34m\u001b[0m\u001b[0;34m\u001b[0m\u001b[0m\n\u001b[0;32m--> 885\u001b[0;31m         \u001b[0mresult\u001b[0m \u001b[0;34m=\u001b[0m \u001b[0mself\u001b[0m\u001b[0;34m.\u001b[0m\u001b[0m_call\u001b[0m\u001b[0;34m(\u001b[0m\u001b[0;34m*\u001b[0m\u001b[0margs\u001b[0m\u001b[0;34m,\u001b[0m \u001b[0;34m**\u001b[0m\u001b[0mkwds\u001b[0m\u001b[0;34m)\u001b[0m\u001b[0;34m\u001b[0m\u001b[0;34m\u001b[0m\u001b[0m\n\u001b[0m\u001b[1;32m    886\u001b[0m \u001b[0;34m\u001b[0m\u001b[0m\n\u001b[1;32m    887\u001b[0m       \u001b[0mnew_tracing_count\u001b[0m \u001b[0;34m=\u001b[0m \u001b[0mself\u001b[0m\u001b[0;34m.\u001b[0m\u001b[0mexperimental_get_tracing_count\u001b[0m\u001b[0;34m(\u001b[0m\u001b[0;34m)\u001b[0m\u001b[0;34m\u001b[0m\u001b[0;34m\u001b[0m\u001b[0m\n",
            "\u001b[0;32m/usr/local/lib/python3.7/dist-packages/tensorflow/python/eager/def_function.py\u001b[0m in \u001b[0;36m_call\u001b[0;34m(self, *args, **kwds)\u001b[0m\n\u001b[1;32m    915\u001b[0m       \u001b[0;31m# In this case we have created variables on the first call, so we run the\u001b[0m\u001b[0;34m\u001b[0m\u001b[0;34m\u001b[0m\u001b[0;34m\u001b[0m\u001b[0m\n\u001b[1;32m    916\u001b[0m       \u001b[0;31m# defunned version which is guaranteed to never create variables.\u001b[0m\u001b[0;34m\u001b[0m\u001b[0;34m\u001b[0m\u001b[0;34m\u001b[0m\u001b[0m\n\u001b[0;32m--> 917\u001b[0;31m       \u001b[0;32mreturn\u001b[0m \u001b[0mself\u001b[0m\u001b[0;34m.\u001b[0m\u001b[0m_stateless_fn\u001b[0m\u001b[0;34m(\u001b[0m\u001b[0;34m*\u001b[0m\u001b[0margs\u001b[0m\u001b[0;34m,\u001b[0m \u001b[0;34m**\u001b[0m\u001b[0mkwds\u001b[0m\u001b[0;34m)\u001b[0m  \u001b[0;31m# pylint: disable=not-callable\u001b[0m\u001b[0;34m\u001b[0m\u001b[0;34m\u001b[0m\u001b[0m\n\u001b[0m\u001b[1;32m    918\u001b[0m     \u001b[0;32melif\u001b[0m \u001b[0mself\u001b[0m\u001b[0;34m.\u001b[0m\u001b[0m_stateful_fn\u001b[0m \u001b[0;32mis\u001b[0m \u001b[0;32mnot\u001b[0m \u001b[0;32mNone\u001b[0m\u001b[0;34m:\u001b[0m\u001b[0;34m\u001b[0m\u001b[0;34m\u001b[0m\u001b[0m\n\u001b[1;32m    919\u001b[0m       \u001b[0;31m# Release the lock early so that multiple threads can perform the call\u001b[0m\u001b[0;34m\u001b[0m\u001b[0;34m\u001b[0m\u001b[0;34m\u001b[0m\u001b[0m\n",
            "\u001b[0;32m/usr/local/lib/python3.7/dist-packages/tensorflow/python/eager/function.py\u001b[0m in \u001b[0;36m__call__\u001b[0;34m(self, *args, **kwargs)\u001b[0m\n\u001b[1;32m   3038\u001b[0m        filtered_flat_args) = self._maybe_define_function(args, kwargs)\n\u001b[1;32m   3039\u001b[0m     return graph_function._call_flat(\n\u001b[0;32m-> 3040\u001b[0;31m         filtered_flat_args, captured_inputs=graph_function.captured_inputs)  # pylint: disable=protected-access\n\u001b[0m\u001b[1;32m   3041\u001b[0m \u001b[0;34m\u001b[0m\u001b[0m\n\u001b[1;32m   3042\u001b[0m   \u001b[0;34m@\u001b[0m\u001b[0mproperty\u001b[0m\u001b[0;34m\u001b[0m\u001b[0;34m\u001b[0m\u001b[0m\n",
            "\u001b[0;32m/usr/local/lib/python3.7/dist-packages/tensorflow/python/eager/function.py\u001b[0m in \u001b[0;36m_call_flat\u001b[0;34m(self, args, captured_inputs, cancellation_manager)\u001b[0m\n\u001b[1;32m   1962\u001b[0m       \u001b[0;31m# No tape is watching; skip to running the function.\u001b[0m\u001b[0;34m\u001b[0m\u001b[0;34m\u001b[0m\u001b[0;34m\u001b[0m\u001b[0m\n\u001b[1;32m   1963\u001b[0m       return self._build_call_outputs(self._inference_function.call(\n\u001b[0;32m-> 1964\u001b[0;31m           ctx, args, cancellation_manager=cancellation_manager))\n\u001b[0m\u001b[1;32m   1965\u001b[0m     forward_backward = self._select_forward_and_backward_functions(\n\u001b[1;32m   1966\u001b[0m         \u001b[0margs\u001b[0m\u001b[0;34m,\u001b[0m\u001b[0;34m\u001b[0m\u001b[0;34m\u001b[0m\u001b[0m\n",
            "\u001b[0;32m/usr/local/lib/python3.7/dist-packages/tensorflow/python/eager/function.py\u001b[0m in \u001b[0;36mcall\u001b[0;34m(self, ctx, args, cancellation_manager)\u001b[0m\n\u001b[1;32m    594\u001b[0m               \u001b[0minputs\u001b[0m\u001b[0;34m=\u001b[0m\u001b[0margs\u001b[0m\u001b[0;34m,\u001b[0m\u001b[0;34m\u001b[0m\u001b[0;34m\u001b[0m\u001b[0m\n\u001b[1;32m    595\u001b[0m               \u001b[0mattrs\u001b[0m\u001b[0;34m=\u001b[0m\u001b[0mattrs\u001b[0m\u001b[0;34m,\u001b[0m\u001b[0;34m\u001b[0m\u001b[0;34m\u001b[0m\u001b[0m\n\u001b[0;32m--> 596\u001b[0;31m               ctx=ctx)\n\u001b[0m\u001b[1;32m    597\u001b[0m         \u001b[0;32melse\u001b[0m\u001b[0;34m:\u001b[0m\u001b[0;34m\u001b[0m\u001b[0;34m\u001b[0m\u001b[0m\n\u001b[1;32m    598\u001b[0m           outputs = execute.execute_with_cancellation(\n",
            "\u001b[0;32m/usr/local/lib/python3.7/dist-packages/tensorflow/python/eager/execute.py\u001b[0m in \u001b[0;36mquick_execute\u001b[0;34m(op_name, num_outputs, inputs, attrs, ctx, name)\u001b[0m\n\u001b[1;32m     58\u001b[0m     \u001b[0mctx\u001b[0m\u001b[0;34m.\u001b[0m\u001b[0mensure_initialized\u001b[0m\u001b[0;34m(\u001b[0m\u001b[0;34m)\u001b[0m\u001b[0;34m\u001b[0m\u001b[0;34m\u001b[0m\u001b[0m\n\u001b[1;32m     59\u001b[0m     tensors = pywrap_tfe.TFE_Py_Execute(ctx._handle, device_name, op_name,\n\u001b[0;32m---> 60\u001b[0;31m                                         inputs, attrs, num_outputs)\n\u001b[0m\u001b[1;32m     61\u001b[0m   \u001b[0;32mexcept\u001b[0m \u001b[0mcore\u001b[0m\u001b[0;34m.\u001b[0m\u001b[0m_NotOkStatusException\u001b[0m \u001b[0;32mas\u001b[0m \u001b[0me\u001b[0m\u001b[0;34m:\u001b[0m\u001b[0;34m\u001b[0m\u001b[0;34m\u001b[0m\u001b[0m\n\u001b[1;32m     62\u001b[0m     \u001b[0;32mif\u001b[0m \u001b[0mname\u001b[0m \u001b[0;32mis\u001b[0m \u001b[0;32mnot\u001b[0m \u001b[0;32mNone\u001b[0m\u001b[0;34m:\u001b[0m\u001b[0;34m\u001b[0m\u001b[0;34m\u001b[0m\u001b[0m\n",
            "\u001b[0;31mInvalidArgumentError\u001b[0m: 2 root error(s) found.\n  (0) Invalid argument:  Not enough time for target transition sequence (required: 38, available: 30)0You can turn this error into a warning by using the flag ignore_longer_outputs_than_inputs\n\t [[node model_15/ctc/CTCLoss (defined at <ipython-input-93-3cf935aab5a9>:4) ]]\n  (1) Invalid argument:  Not enough time for target transition sequence (required: 38, available: 30)0You can turn this error into a warning by using the flag ignore_longer_outputs_than_inputs\n\t [[node model_15/ctc/CTCLoss (defined at <ipython-input-93-3cf935aab5a9>:4) ]]\n\t [[gradient_tape/model_15/ctc/Shape/_98]]\n0 successful operations.\n0 derived errors ignored. [Op:__inference_train_function_184951]\n\nFunction call stack:\ntrain_function -> train_function\n"
          ]
        }
      ]
    }
  ]
}